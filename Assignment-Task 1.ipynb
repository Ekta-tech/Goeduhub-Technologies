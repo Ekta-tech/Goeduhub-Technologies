{
 "cells": [
  {
   "cell_type": "markdown",
   "metadata": {},
   "source": [
    "1. We are having 3 list like this\n",
    "\n",
    "Colors = [“Yellow”,”Green”,”White”,”Black”]\n",
    "\n",
    "Fruits=[“Apple”,”Papaya”,”Mango”,”Orange”]\n",
    "\n",
    "Animals=[“Tiger”,”Lion”,”Deer”,”Zebra”]\n",
    "\n",
    "  i. Write a program that asks user to enter a Color/Fruit/Animal name and it should tell which category belongs to , like its is a fruit or color or Animal\n",
    "\n",
    " ii. Write a program that asks user to enter two items and it tells you if they both are in same category or not. For example if I enter yellow and Black, it will print \"Both are colors\" but if I enter yellow and Tiger it should print \"They don't belong to same category\""
   ]
  },
  {
   "cell_type": "code",
   "execution_count": 5,
   "metadata": {},
   "outputs": [
    {
     "name": "stdout",
     "output_type": "stream",
     "text": [
      "Enter an item: Lion\n",
      "item=Lion belongs to Animals category\n"
     ]
    }
   ],
   "source": [
    "# (i)\n",
    "\n",
    "Colors = ['Yellow','Green','White','Black']\n",
    "\n",
    "Fruits=['Apple','Papaya','Mango','Orange']\n",
    "\n",
    "Animals=['Tiger','Lion','Deer','Zebra']\n",
    "\n",
    "item = input(\"Enter an item: \")\n",
    "\n",
    "if item in Colors:\n",
    "    print(\"item={} belongs to Colors category\".format(item))\n",
    "elif item in Fruits:\n",
    "    print(\"item={} belongs to Fruits category\".format(item))\n",
    "elif item in Animals:\n",
    "    print(\"item={} belongs to Animals category\".format(item))\n",
    "\n"
   ]
  },
  {
   "cell_type": "code",
   "execution_count": 13,
   "metadata": {},
   "outputs": [
    {
     "name": "stdout",
     "output_type": "stream",
     "text": [
      "Enter item1 :Green\n",
      "Enter item2 :Papaya \n",
      "They don't belong to same category\n"
     ]
    }
   ],
   "source": [
    "item1 = input(\"Enter item1 :\")\n",
    "item2 = input(\"Enter item2 :\")\n",
    "if item1 in Fruits and item2 in Fruits:\n",
    "    print(\"Both are fruits\" )\n",
    "elif item1 in Colors and item2 in Colors:\n",
    "    print(\"Both are colors\" )\n",
    "elif item1 in Animals and item2 in Animals:\n",
    "    print(\"Both are animals\" )\n",
    "else:\n",
    "    print(\"They don't belong to same category\")"
   ]
  },
  {
   "cell_type": "markdown",
   "metadata": {},
   "source": [
    "2.  Write a python program that can tell you if your grade score good or not . Normal Score range is 40 to 60.\n",
    "\n",
    "  i. Ask user to enter his score.\n",
    "\n",
    "  ii. If it is below 40 to 60 range then print that score is low\n",
    "\n",
    "  iii. If it is above 60 then print that it is good otherwise print that it is normal"
   ]
  },
  {
   "cell_type": "code",
   "execution_count": 16,
   "metadata": {},
   "outputs": [
    {
     "name": "stdout",
     "output_type": "stream",
     "text": [
      "Enter your score:77\n"
     ]
    }
   ],
   "source": [
    "# (i)\n",
    "score = eval(input(\"Enter your score:\"))\n"
   ]
  },
  {
   "cell_type": "code",
   "execution_count": 17,
   "metadata": {},
   "outputs": [
    {
     "name": "stdout",
     "output_type": "stream",
     "text": [
      "score is good\n"
     ]
    }
   ],
   "source": [
    "# (ii)\n",
    "\n",
    "if score<40:\n",
    "    print(\"score is low\")\n",
    "    \n",
    "#(iii)\n",
    "elif score>60:\n",
    "    print(\"score is good\")\n",
    "else:\n",
    "    print(\"score is normal\")"
   ]
  },
  {
   "cell_type": "markdown",
   "metadata": {},
   "source": [
    "3.  After appearing in exam 10 times you got this result,\n",
    "\n",
    "result = [\"Pass\",\"Fail\",\"Fail\",\"Pass\",\"Fail\",\"Pass\",\"Pass\",\"Fail\",\"Fail\",\"Fail\"]\n",
    "\n",
    "Using for loop figure out how many times you got Pass"
   ]
  },
  {
   "cell_type": "code",
   "execution_count": 19,
   "metadata": {},
   "outputs": [
    {
     "name": "stdout",
     "output_type": "stream",
     "text": [
      "4\n"
     ]
    }
   ],
   "source": [
    "result = [\"Pass\",\"Fail\",\"Fail\",\"Pass\",\"Fail\",\"Pass\",\"Pass\",\"Fail\",\"Fail\",\"Fail\"]\n",
    "\n",
    "count = 0\n",
    "\n",
    "for i in result:\n",
    "    if 'Pass' in i:\n",
    "        count += 1\n",
    "        \n",
    "print(count)"
   ]
  },
  {
   "cell_type": "markdown",
   "metadata": {},
   "source": [
    "4.  Write a program that prints following shape\n",
    "\n",
    "*\n",
    "\n",
    "* *\n",
    "\n",
    "* * *\n",
    "\n",
    "* * * *\n",
    "\n",
    "* * * * *\n",
    "\n",
    "* * * *\n",
    "\n",
    "* * *\n",
    "\n",
    "* *\n",
    "\n",
    "*"
   ]
  },
  {
   "cell_type": "code",
   "execution_count": 21,
   "metadata": {},
   "outputs": [
    {
     "name": "stdout",
     "output_type": "stream",
     "text": [
      "\n",
      "* \n",
      "* * \n",
      "* * * \n",
      "* * * * \n",
      "* * * * * \n",
      "* * * * \n",
      "* * * \n",
      "* * \n",
      "* \n"
     ]
    }
   ],
   "source": [
    "for i in range(5):\n",
    "    for j in range(i):\n",
    "        print(\"*\",end=\" \")\n",
    "    print()\n",
    "    \n",
    "for i in range(5,0,-1):\n",
    "    for j in range(i):\n",
    "        print(\"*\",end=\" \")\n",
    "    print()\n",
    "    \n"
   ]
  },
  {
   "cell_type": "markdown",
   "metadata": {},
   "source": [
    "5.   Lets say you are running a 50 km race. Write a program that,\n",
    "\n",
    "Upon completing each 10 km asks you \"are you tired?\"\n",
    "If you reply \"yes\" then it should break and print \"you didn't finish the race\"\n",
    " If you reply \"no\" then it should continue and ask \"are you tired\" on every km\n",
    "If you finish all 50 km then it should print congratulations message"
   ]
  },
  {
   "cell_type": "code",
   "execution_count": 36,
   "metadata": {},
   "outputs": [
    {
     "name": "stdout",
     "output_type": "stream",
     "text": [
      "Are you tired? yes\n",
      "you didn't finish the race\n"
     ]
    }
   ],
   "source": [
    "for i in range(10,51,10):\n",
    " \n",
    "    ask = input(\"Are you tired? \")\n",
    "    if ask==\"yes\":\n",
    "        print(\"you didn't finish the race\")\n",
    "        break\n",
    "    elif ask==\"no\":\n",
    "        \n",
    "        if i == 50:\n",
    "            print(\"Congratulations,you completed the race\")\n",
    "            \n",
    "        continue"
   ]
  },
  {
   "cell_type": "markdown",
   "metadata": {},
   "source": [
    "6.  Write a Python program to find those numbers which are divisible by 7 and multiple of 5, between 1500 and 2700 (both included)."
   ]
  },
  {
   "cell_type": "code",
   "execution_count": 37,
   "metadata": {},
   "outputs": [
    {
     "name": "stdout",
     "output_type": "stream",
     "text": [
      "1505\n",
      "1540\n",
      "1575\n",
      "1610\n",
      "1645\n",
      "1680\n",
      "1715\n",
      "1750\n",
      "1785\n",
      "1820\n",
      "1855\n",
      "1890\n",
      "1925\n",
      "1960\n",
      "1995\n",
      "2030\n",
      "2065\n",
      "2100\n",
      "2135\n",
      "2170\n",
      "2205\n",
      "2240\n",
      "2275\n",
      "2310\n",
      "2345\n",
      "2380\n",
      "2415\n",
      "2450\n",
      "2485\n",
      "2520\n",
      "2555\n",
      "2590\n",
      "2625\n",
      "2660\n",
      "2695\n"
     ]
    }
   ],
   "source": [
    "for i in range(1500,2701):\n",
    "    if i%5==0:\n",
    "        if i%7==0:\n",
    "            print(i)"
   ]
  },
  {
   "cell_type": "markdown",
   "metadata": {},
   "source": [
    "7.   Print square of all numbers between 10 to 20 except even numbers"
   ]
  },
  {
   "cell_type": "code",
   "execution_count": 39,
   "metadata": {},
   "outputs": [
    {
     "name": "stdout",
     "output_type": "stream",
     "text": [
      "Square of i=11 is 121\n",
      "Square of i=13 is 169\n",
      "Square of i=15 is 225\n",
      "Square of i=17 is 289\n",
      "Square of i=19 is 361\n"
     ]
    }
   ],
   "source": [
    "for i in range(11,20):\n",
    "    if i%2!=0:\n",
    "        \n",
    "    \n",
    "        print(\"Square of i={} is {}\".format(i,i**2))"
   ]
  },
  {
   "cell_type": "markdown",
   "metadata": {},
   "source": [
    "8.  Your Marks for five Test(test1 to test5) looks like this,\n",
    "\n",
    "marks_list = [65, 75, 2100, 95, 83]\n",
    "\n",
    "Write a program that asks you to enter marks and program should tell you in which test that marks occurred. If marks is not found then it should print that as well."
   ]
  },
  {
   "cell_type": "code",
   "execution_count": 46,
   "metadata": {},
   "outputs": [
    {
     "name": "stdout",
     "output_type": "stream",
     "text": [
      "Enter your marks:33\n",
      "marks not found\n"
     ]
    }
   ],
   "source": [
    "marks_list = [65, 75, 2100, 95, 83]\n",
    "marks = eval(input(\"Enter your marks:\"))\n",
    "for i in range(len(marks_list)):\n",
    "    if marks in marks_list:\n",
    "        if marks == marks_list[i]:\n",
    "            print(\"{} marks occured in test{}\".format(marks,i+1))\n",
    "    else:\n",
    "        print(\"marks not found\")\n",
    "        break\n",
    "    \n",
    "    "
   ]
  },
  {
   "cell_type": "code",
   "execution_count": null,
   "metadata": {},
   "outputs": [],
   "source": []
  }
 ],
 "metadata": {
  "kernelspec": {
   "display_name": "Python 3",
   "language": "python",
   "name": "python3"
  },
  "language_info": {
   "codemirror_mode": {
    "name": "ipython",
    "version": 3
   },
   "file_extension": ".py",
   "mimetype": "text/x-python",
   "name": "python",
   "nbconvert_exporter": "python",
   "pygments_lexer": "ipython3",
   "version": "3.8.5"
  }
 },
 "nbformat": 4,
 "nbformat_minor": 4
}
