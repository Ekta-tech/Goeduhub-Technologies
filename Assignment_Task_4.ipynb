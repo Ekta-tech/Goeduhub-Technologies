{
  "nbformat": 4,
  "nbformat_minor": 0,
  "metadata": {
    "colab": {
      "name": "Assignment/Task 4.ipynb",
      "provenance": [],
      "collapsed_sections": []
    },
    "kernelspec": {
      "name": "python3",
      "display_name": "Python 3"
    },
    "language_info": {
      "name": "python"
    }
  },
  "cells": [
    {
      "cell_type": "markdown",
      "metadata": {
        "id": "RviUbnBXOPbg"
      },
      "source": [
        "## Import the numpy package under the name np and Print the numpy version and the configuration "
      ]
    },
    {
      "cell_type": "code",
      "metadata": {
        "colab": {
          "base_uri": "https://localhost:8080/"
        },
        "id": "uYXBoIotOKnj",
        "outputId": "da19ec06-4ed0-4930-8761-8feb3a7fb75c"
      },
      "source": [
        "import numpy as np\n",
        "\n",
        "print(\"numpy version :\" ,np.__version__)\n",
        "print(\"numpy configuration: \",np.show_config())"
      ],
      "execution_count": 1,
      "outputs": [
        {
          "output_type": "stream",
          "name": "stdout",
          "text": [
            "numpy version : 1.19.5\n",
            "blas_mkl_info:\n",
            "  NOT AVAILABLE\n",
            "blis_info:\n",
            "  NOT AVAILABLE\n",
            "openblas_info:\n",
            "    libraries = ['openblas', 'openblas']\n",
            "    library_dirs = ['/usr/local/lib']\n",
            "    language = c\n",
            "    define_macros = [('HAVE_CBLAS', None)]\n",
            "blas_opt_info:\n",
            "    libraries = ['openblas', 'openblas']\n",
            "    library_dirs = ['/usr/local/lib']\n",
            "    language = c\n",
            "    define_macros = [('HAVE_CBLAS', None)]\n",
            "lapack_mkl_info:\n",
            "  NOT AVAILABLE\n",
            "openblas_lapack_info:\n",
            "    libraries = ['openblas', 'openblas']\n",
            "    library_dirs = ['/usr/local/lib']\n",
            "    language = c\n",
            "    define_macros = [('HAVE_CBLAS', None)]\n",
            "lapack_opt_info:\n",
            "    libraries = ['openblas', 'openblas']\n",
            "    library_dirs = ['/usr/local/lib']\n",
            "    language = c\n",
            "    define_macros = [('HAVE_CBLAS', None)]\n",
            "numpy configuration:  None\n"
          ]
        }
      ]
    },
    {
      "cell_type": "markdown",
      "metadata": {
        "id": "GY-EGxiaQYN-"
      },
      "source": [
        "## Create a null vector of size 10"
      ]
    },
    {
      "cell_type": "code",
      "metadata": {
        "colab": {
          "base_uri": "https://localhost:8080/"
        },
        "id": "TUL3Vp8DOtlm",
        "outputId": "af3d369d-7246-4e2a-c2df-e744b5b1b8f0"
      },
      "source": [
        "null_vector = np.zeros(10)\n",
        "print(null_vector)"
      ],
      "execution_count": 2,
      "outputs": [
        {
          "output_type": "stream",
          "name": "stdout",
          "text": [
            "[0. 0. 0. 0. 0. 0. 0. 0. 0. 0.]\n"
          ]
        }
      ]
    },
    {
      "cell_type": "markdown",
      "metadata": {
        "id": "Jul9DKY4RMDb"
      },
      "source": [
        "## Create Simple 1-D array and check type and check data types in array"
      ]
    },
    {
      "cell_type": "code",
      "metadata": {
        "colab": {
          "base_uri": "https://localhost:8080/"
        },
        "id": "h0axRT9IRFk9",
        "outputId": "0c9c8239-afe1-4482-f8b7-8a7e032e29d7"
      },
      "source": [
        "arr = np.arange(0,10)\n",
        "print(arr)\n",
        "print(type(arr))\n",
        "print(arr.dtype)"
      ],
      "execution_count": 4,
      "outputs": [
        {
          "output_type": "stream",
          "name": "stdout",
          "text": [
            "[0 1 2 3 4 5 6 7 8 9]\n",
            "<class 'numpy.ndarray'>\n",
            "int64\n"
          ]
        }
      ]
    },
    {
      "cell_type": "markdown",
      "metadata": {
        "id": "gGDZR3IrRw-4"
      },
      "source": [
        "## How to find number of dimensions, bytes per element and bytes of memory used?"
      ]
    },
    {
      "cell_type": "code",
      "metadata": {
        "colab": {
          "base_uri": "https://localhost:8080/"
        },
        "id": "ayBXX7YtRnX2",
        "outputId": "7b9312e9-09a7-44cd-f463-067939566f1c"
      },
      "source": [
        "print(\"Dimensions: \",arr.ndim)\n",
        "print(\"bytes per element: \",arr.itemsize)\n",
        "print(\"Bytes per memory: \",arr.nbytes)"
      ],
      "execution_count": 6,
      "outputs": [
        {
          "output_type": "stream",
          "name": "stdout",
          "text": [
            "Dimensions:  1\n",
            "bytes per element:  8\n",
            "Bytes per memory:  80\n"
          ]
        }
      ]
    },
    {
      "cell_type": "markdown",
      "metadata": {
        "id": "_Mm1rZmDS_NA"
      },
      "source": [
        "## Create a null vector of size 10 but the fifth value which is 1"
      ]
    },
    {
      "cell_type": "code",
      "metadata": {
        "colab": {
          "base_uri": "https://localhost:8080/"
        },
        "id": "yRowzub3SX1E",
        "outputId": "fffc5d5b-5ced-4c41-afe7-2fc3e588e028"
      },
      "source": [
        "v = np.zeros(10)\n",
        "v[4]=1\n",
        "print(v)"
      ],
      "execution_count": 7,
      "outputs": [
        {
          "output_type": "stream",
          "name": "stdout",
          "text": [
            "[0. 0. 0. 0. 1. 0. 0. 0. 0. 0.]\n"
          ]
        }
      ]
    },
    {
      "cell_type": "markdown",
      "metadata": {
        "id": "iOC6p6rPTPYD"
      },
      "source": [
        "## Create a vector with values ranging from 10 to 49"
      ]
    },
    {
      "cell_type": "code",
      "metadata": {
        "colab": {
          "base_uri": "https://localhost:8080/"
        },
        "id": "G0s8aiy_TKe3",
        "outputId": "4edc90f5-8fe6-4da3-fec5-f075815d1d96"
      },
      "source": [
        "vec = np.arange(10,50)\n",
        "print(vec)"
      ],
      "execution_count": 8,
      "outputs": [
        {
          "output_type": "stream",
          "name": "stdout",
          "text": [
            "[10 11 12 13 14 15 16 17 18 19 20 21 22 23 24 25 26 27 28 29 30 31 32 33\n",
            " 34 35 36 37 38 39 40 41 42 43 44 45 46 47 48 49]\n"
          ]
        }
      ]
    },
    {
      "cell_type": "markdown",
      "metadata": {
        "id": "VhNlkRKZTcIU"
      },
      "source": [
        "## Reverse a vector (first element becomes last)"
      ]
    },
    {
      "cell_type": "code",
      "metadata": {
        "colab": {
          "base_uri": "https://localhost:8080/"
        },
        "id": "K_-uNfbbTVts",
        "outputId": "5644150d-d0d5-4029-e5ad-7cbd3bda1133"
      },
      "source": [
        "vec[::-1]\n"
      ],
      "execution_count": 9,
      "outputs": [
        {
          "output_type": "execute_result",
          "data": {
            "text/plain": [
              "array([49, 48, 47, 46, 45, 44, 43, 42, 41, 40, 39, 38, 37, 36, 35, 34, 33,\n",
              "       32, 31, 30, 29, 28, 27, 26, 25, 24, 23, 22, 21, 20, 19, 18, 17, 16,\n",
              "       15, 14, 13, 12, 11, 10])"
            ]
          },
          "metadata": {},
          "execution_count": 9
        }
      ]
    },
    {
      "cell_type": "markdown",
      "metadata": {
        "id": "d8GakCd3To4-"
      },
      "source": [
        "## Create a 3x3 matrix with values ranging from 0 to 8"
      ]
    },
    {
      "cell_type": "code",
      "metadata": {
        "colab": {
          "base_uri": "https://localhost:8080/"
        },
        "id": "TzKR8l99TiDJ",
        "outputId": "a4003960-6213-4a60-ab47-df0aba9d4795"
      },
      "source": [
        "m = np.arange(0,9)\n",
        "m.reshape(3,3)"
      ],
      "execution_count": 10,
      "outputs": [
        {
          "output_type": "execute_result",
          "data": {
            "text/plain": [
              "array([[0, 1, 2],\n",
              "       [3, 4, 5],\n",
              "       [6, 7, 8]])"
            ]
          },
          "metadata": {},
          "execution_count": 10
        }
      ]
    },
    {
      "cell_type": "markdown",
      "metadata": {
        "id": "D4wDmiyBT4p6"
      },
      "source": [
        "## Find indices of non-zero elements from [1,2,0,0,4,0]"
      ]
    },
    {
      "cell_type": "code",
      "metadata": {
        "colab": {
          "base_uri": "https://localhost:8080/"
        },
        "id": "bhLMrTxNTyQI",
        "outputId": "af1f2f90-f705-4467-8866-5f878a731c63"
      },
      "source": [
        "v = [1,2,0,0,4,0]\n",
        "np.nonzero(v)"
      ],
      "execution_count": 11,
      "outputs": [
        {
          "output_type": "execute_result",
          "data": {
            "text/plain": [
              "(array([0, 1, 4]),)"
            ]
          },
          "metadata": {},
          "execution_count": 11
        }
      ]
    },
    {
      "cell_type": "markdown",
      "metadata": {
        "id": "d0SMEk35UI1x"
      },
      "source": [
        "## Create a 3x3 identity matrix"
      ]
    },
    {
      "cell_type": "code",
      "metadata": {
        "colab": {
          "base_uri": "https://localhost:8080/"
        },
        "id": "vfkB5NqjUB_T",
        "outputId": "a9a8451f-c3b0-44af-fe5d-2a026add59c8"
      },
      "source": [
        "np.identity(3)"
      ],
      "execution_count": 12,
      "outputs": [
        {
          "output_type": "execute_result",
          "data": {
            "text/plain": [
              "array([[1., 0., 0.],\n",
              "       [0., 1., 0.],\n",
              "       [0., 0., 1.]])"
            ]
          },
          "metadata": {},
          "execution_count": 12
        }
      ]
    },
    {
      "cell_type": "code",
      "metadata": {
        "colab": {
          "base_uri": "https://localhost:8080/"
        },
        "id": "Ge4LFrEyUMLK",
        "outputId": "b5b4bc50-a077-422d-9c16-d46d68f655c4"
      },
      "source": [
        "np.eye(3,3)"
      ],
      "execution_count": 14,
      "outputs": [
        {
          "output_type": "execute_result",
          "data": {
            "text/plain": [
              "array([[1., 0., 0.],\n",
              "       [0., 1., 0.],\n",
              "       [0., 0., 1.]])"
            ]
          },
          "metadata": {},
          "execution_count": 14
        }
      ]
    },
    {
      "cell_type": "markdown",
      "metadata": {
        "id": "9Xs5YTxWUS8p"
      },
      "source": [
        "## Create a 3x3x3 array with random values"
      ]
    },
    {
      "cell_type": "code",
      "metadata": {
        "colab": {
          "base_uri": "https://localhost:8080/"
        },
        "id": "dZ1gsU9JUPnT",
        "outputId": "bc33b484-9f4f-4926-94a4-ea69ecb9f905"
      },
      "source": [
        "import random\n",
        "\n",
        "a = np.random.random((3,3,3))\n",
        "print(a)"
      ],
      "execution_count": 17,
      "outputs": [
        {
          "output_type": "stream",
          "name": "stdout",
          "text": [
            "[[[0.59252547 0.3097549  0.32702011]\n",
            "  [0.36381034 0.39776855 0.45560086]\n",
            "  [0.26865239 0.67982609 0.14800163]]\n",
            "\n",
            " [[0.2271137  0.0600399  0.61265522]\n",
            "  [0.55348113 0.6780911  0.75019025]\n",
            "  [0.94420332 0.25161875 0.74642333]]\n",
            "\n",
            " [[0.98372153 0.0797185  0.92949108]\n",
            "  [0.58315954 0.67563203 0.65005131]\n",
            "  [0.37899333 0.29810164 0.81081684]]]\n"
          ]
        }
      ]
    },
    {
      "cell_type": "markdown",
      "metadata": {
        "id": "wOAqWr0xVUCj"
      },
      "source": [
        "## Create a 10x10 array with random values and find the minimum and maximum values"
      ]
    },
    {
      "cell_type": "code",
      "metadata": {
        "colab": {
          "base_uri": "https://localhost:8080/"
        },
        "id": "B233dvUqVE1Q",
        "outputId": "0a86f7ca-00c7-4a5c-8e27-42903ebd6b0c"
      },
      "source": [
        "a = np.random.random((10,10))\n",
        "print(a)\n",
        "print(\"Maximum value:\" ,np.max(a))\n",
        "print(\"Minimum value:\" ,np.min(a))\n"
      ],
      "execution_count": 18,
      "outputs": [
        {
          "output_type": "stream",
          "name": "stdout",
          "text": [
            "[[0.65828948 0.0877018  0.78007392 0.54881239 0.19494961 0.34811957\n",
            "  0.06453538 0.07042764 0.88509796 0.75786818]\n",
            " [0.0233234  0.37583715 0.18948776 0.9962942  0.82207728 0.505271\n",
            "  0.95088179 0.1366362  0.6063443  0.50141222]\n",
            " [0.16491834 0.46026619 0.79262639 0.51452027 0.41738708 0.00407492\n",
            "  0.75488065 0.81996463 0.87132095 0.0482864 ]\n",
            " [0.63405427 0.93340666 0.13989144 0.09634604 0.02549605 0.33724943\n",
            "  0.45947006 0.42464558 0.96758806 0.04784843]\n",
            " [0.81747038 0.95374018 0.29727071 0.66126027 0.18069189 0.06816229\n",
            "  0.55618059 0.13704297 0.51629564 0.84391569]\n",
            " [0.82331773 0.98225804 0.22089324 0.95790697 0.88260895 0.65956501\n",
            "  0.67206474 0.37737241 0.34099893 0.8732492 ]\n",
            " [0.30171022 0.41348195 0.13393401 0.09120673 0.21227479 0.37707546\n",
            "  0.736561   0.1382267  0.89649356 0.79166339]\n",
            " [0.42497357 0.59956218 0.27787665 0.46820154 0.59681616 0.04333404\n",
            "  0.30163647 0.18801909 0.71416078 0.82227447]\n",
            " [0.72090621 0.6597091  0.07780664 0.08688577 0.74103737 0.85671848\n",
            "  0.84947752 0.81349969 0.89779769 0.91990251]\n",
            " [0.96579786 0.8397437  0.39905761 0.86763088 0.0376217  0.45017778\n",
            "  0.83090775 0.15092641 0.14283112 0.13920605]]\n",
            "Maximum value: 0.9962941975337196\n",
            "Minimum value: 0.004074923971469024\n"
          ]
        }
      ]
    },
    {
      "cell_type": "markdown",
      "metadata": {
        "id": "9RyLpl0FVvDJ"
      },
      "source": [
        "## Create a random vector of size 30 and find the mean value"
      ]
    },
    {
      "cell_type": "code",
      "metadata": {
        "colab": {
          "base_uri": "https://localhost:8080/"
        },
        "id": "ZiF9ESlPVmFz",
        "outputId": "fb70e0d2-aa9e-43ab-e9c9-9bda412c726a"
      },
      "source": [
        "v = np.random.random((5,6))\n",
        "\n",
        "print(\"Mean=\",np.mean(v))"
      ],
      "execution_count": 19,
      "outputs": [
        {
          "output_type": "stream",
          "name": "stdout",
          "text": [
            "Mean= 0.5391569514132843\n"
          ]
        }
      ]
    },
    {
      "cell_type": "markdown",
      "metadata": {
        "id": "wboj6LtdWO1O"
      },
      "source": [
        "## Create a 2d array with 1 on the border and 0 inside"
      ]
    },
    {
      "cell_type": "code",
      "metadata": {
        "colab": {
          "base_uri": "https://localhost:8080/"
        },
        "id": "pdaelbslV4tg",
        "outputId": "d4ec0e2e-aaa8-4f00-9d36-72dd8a55c643"
      },
      "source": [
        "d = np.ones((5,5))\n",
        "\n",
        "d[1:4,1:4]=0\n",
        "\n",
        "print(d)"
      ],
      "execution_count": 20,
      "outputs": [
        {
          "output_type": "stream",
          "name": "stdout",
          "text": [
            "[[1. 1. 1. 1. 1.]\n",
            " [1. 0. 0. 0. 1.]\n",
            " [1. 0. 0. 0. 1.]\n",
            " [1. 0. 0. 0. 1.]\n",
            " [1. 1. 1. 1. 1.]]\n"
          ]
        }
      ]
    },
    {
      "cell_type": "markdown",
      "metadata": {
        "id": "pqpmGSH8WmzH"
      },
      "source": [
        "## How to add a border (filled with 0's) around an existing array?"
      ]
    },
    {
      "cell_type": "code",
      "metadata": {
        "colab": {
          "base_uri": "https://localhost:8080/"
        },
        "id": "3LsvbeD1WhXN",
        "outputId": "b3853e65-45d4-4957-d4f4-bdbfb5f77c82"
      },
      "source": [
        "a = np.ones((5,5))\n",
        "\n",
        "a[:1,:]=0\n",
        "a[-1:,:]=0\n",
        "a[:,:1]=0\n",
        "a[:,-1:]=0\n",
        "print(a)\n",
        "\n",
        "\n"
      ],
      "execution_count": 25,
      "outputs": [
        {
          "output_type": "stream",
          "name": "stdout",
          "text": [
            "[[0. 0. 0. 0. 0.]\n",
            " [0. 1. 1. 1. 0.]\n",
            " [0. 1. 1. 1. 0.]\n",
            " [0. 1. 1. 1. 0.]\n",
            " [0. 0. 0. 0. 0.]]\n"
          ]
        }
      ]
    },
    {
      "cell_type": "markdown",
      "metadata": {
        "id": "zz0fdBKpYAsW"
      },
      "source": [
        "## How to Accessing/Changing specific elements, rows, columns, etc in Numpy array?\n",
        "\n",
        "Example - [[ 1 2 3 4 5 6 7] [ 8 9 10 11 12 13 14]]\n",
        "\n",
        "Get 13, get first row only, get 3rd column only, get [2, 4, 6], replace 13 by 20"
      ]
    },
    {
      "cell_type": "code",
      "metadata": {
        "colab": {
          "base_uri": "https://localhost:8080/"
        },
        "id": "802hQn7iW8G2",
        "outputId": "6f6ad737-bd90-4d8b-e811-977a9b4aefb8"
      },
      "source": [
        "a = np.arange(1,15).reshape(2,7)\n",
        "print(type(a))\n",
        "print(\"Getting 13 value\",a[1][5])\n",
        "print(\"First row: \",a[0,:])\n",
        "print(\"Third Column: \", a[:,3])\n",
        "print(\"Getting [2,4,6]: \",a[0,1::2])\n"
      ],
      "execution_count": 33,
      "outputs": [
        {
          "output_type": "stream",
          "name": "stdout",
          "text": [
            "<class 'numpy.ndarray'>\n",
            "Getting 13 value 13\n",
            "First row:  [1 2 3 4 5 6 7]\n",
            "Third Column:  [ 4 11]\n",
            "Getting [2,4,6]:  [2 4 6]\n"
          ]
        }
      ]
    },
    {
      "cell_type": "markdown",
      "metadata": {
        "id": "9-SCJTTCmyKJ"
      },
      "source": [
        "## How to Convert a 1D array to a 2D array with 2 rows"
      ]
    },
    {
      "cell_type": "code",
      "metadata": {
        "colab": {
          "base_uri": "https://localhost:8080/"
        },
        "id": "tjpUjSRcY_uP",
        "outputId": "a092c0d9-675d-494d-fbd7-000f8094ada6"
      },
      "source": [
        "ar = np.arange(1,11)\n",
        "print(ar.reshape(2,5))"
      ],
      "execution_count": 38,
      "outputs": [
        {
          "output_type": "stream",
          "name": "stdout",
          "text": [
            "[[ 1  2  3  4  5]\n",
            " [ 6  7  8  9 10]]\n"
          ]
        }
      ]
    },
    {
      "cell_type": "markdown",
      "metadata": {
        "id": "gZMvlMKunW05"
      },
      "source": [
        "## Create the following pattern without hardcoding. Use only numpy functions and the below input array a.\n",
        "\n",
        "Input:\n",
        "\n",
        "a = np.array([1,2,3])`\n",
        "Desired Output:\n",
        "\n",
        "#> array([1, 1, 1, 2, 2, 2, 3, 3, 3, 1, 2, 3, 1, 2, 3, 1, 2, 3])"
      ]
    },
    {
      "cell_type": "code",
      "metadata": {
        "colab": {
          "base_uri": "https://localhost:8080/"
        },
        "id": "Wo2S4RLzm7T1",
        "outputId": "97284100-688c-4c69-ce90-29c3b167fae4"
      },
      "source": [
        "a = np.array([1,2,3])\n",
        "print(a)\n",
        "print(np.append(np.repeat(a,3),np.tile(a,3)))"
      ],
      "execution_count": 44,
      "outputs": [
        {
          "output_type": "stream",
          "name": "stdout",
          "text": [
            "[1 2 3]\n",
            "[1 1 1 2 2 2 3 3 3 1 2 3 1 2 3 1 2 3]\n"
          ]
        }
      ]
    },
    {
      "cell_type": "markdown",
      "metadata": {
        "id": "2nrFJ1NJowSI"
      },
      "source": [
        "## Write a program to show how Numpy taking less memory compared to Python List?"
      ]
    },
    {
      "cell_type": "code",
      "metadata": {
        "colab": {
          "base_uri": "https://localhost:8080/"
        },
        "id": "SLiLXQznnexW",
        "outputId": "51918dac-c8bb-4a96-b430-7a0f760a9541"
      },
      "source": [
        "l = range(100)\n",
        "a = 2\n",
        "\n",
        "import sys\n",
        "\n",
        "print(\"Memory Occupies by list:\" ,sys.getsizeof(a)*len(l))\n",
        "\n",
        "al = np.arange(100)\n",
        "\n",
        "print(\"Size of Numpy: \", al.size * al.itemsize)"
      ],
      "execution_count": 45,
      "outputs": [
        {
          "output_type": "stream",
          "name": "stdout",
          "text": [
            "Memory Occupies by list: 2800\n",
            "Size of Numpy:  800\n"
          ]
        }
      ]
    },
    {
      "cell_type": "markdown",
      "metadata": {
        "id": "EX-iHNcbqJCu"
      },
      "source": [
        "## Write a program to show how Numpy taking less time compared to Python List?"
      ]
    },
    {
      "cell_type": "code",
      "metadata": {
        "colab": {
          "base_uri": "https://localhost:8080/"
        },
        "id": "4I4RykfAqCmA",
        "outputId": "1674be49-3cf4-4307-bf6b-d4d65dda1109"
      },
      "source": [
        "import sys\n",
        "import time\n",
        "\n",
        "\n",
        "\n",
        "size = 10000\n",
        "\n",
        "l1 = range(size)\n",
        "l2 = range(size)\n",
        "start = time.time()\n",
        "r = [i*j for i,j in zip(l1,l2)]\n",
        "\n",
        "print(\"Time taken by list= \",time.time()-start,\"Seconds\")\n",
        "\n",
        "n1 = np.arange(size)\n",
        "\n",
        "n2 = np.arange(size)\n",
        "start1 = time.time()\n",
        "\n",
        "re = n1*n2\n",
        "\n",
        "\n",
        "print(\"Time taken by numpy = {} seconds\".format(time.time()-start1))"
      ],
      "execution_count": 47,
      "outputs": [
        {
          "output_type": "stream",
          "name": "stdout",
          "text": [
            "Time taken by list=  0.0014691352844238281 Seconds\n",
            "Time taken by numpy = 0.0002741813659667969 seconds\n"
          ]
        }
      ]
    },
    {
      "cell_type": "code",
      "metadata": {
        "id": "HOLonrgDrpiK"
      },
      "source": [
        ""
      ],
      "execution_count": null,
      "outputs": []
    }
  ]
}