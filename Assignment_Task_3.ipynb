{
  "nbformat": 4,
  "nbformat_minor": 0,
  "metadata": {
    "colab": {
      "name": "Assignment/Task 3.ipynb",
      "provenance": [],
      "collapsed_sections": []
    },
    "kernelspec": {
      "name": "python3",
      "display_name": "Python 3"
    },
    "language_info": {
      "name": "python"
    }
  },
  "cells": [
    {
      "cell_type": "markdown",
      "metadata": {
        "id": "XgpWPC9vMZXX"
      },
      "source": [
        "## Q.1 Write a Python Program to sort (ascending and descending) a dictionary by value. "
      ]
    },
    {
      "cell_type": "code",
      "metadata": {
        "colab": {
          "base_uri": "https://localhost:8080/"
        },
        "id": "i5PyZMSmMUBM",
        "outputId": "c3f3455b-1a68-43aa-d3b1-595f8865c510"
      },
      "source": [
        "dic = {'dedication':2,'hardwork':1,'passion':0}\n",
        "\n",
        "sort_by_value_asc = {k:v for k,v in sorted(dic.items(),key=lambda v:v[1])}\n",
        "print(sort_by_value_asc)\n",
        "\n",
        "sort_by_value_dec = {k:v for k,v in sorted(dic.items(),key=lambda v:v[1],reverse=True)}\n",
        "print(sort_by_value_dec)\n"
      ],
      "execution_count": null,
      "outputs": [
        {
          "output_type": "stream",
          "name": "stdout",
          "text": [
            "{'passion': 0, 'hardwork': 1, 'dedication': 2}\n",
            "{'dedication': 2, 'hardwork': 1, 'passion': 0}\n"
          ]
        }
      ]
    },
    {
      "cell_type": "markdown",
      "metadata": {
        "id": "FFASpgqXXHxN"
      },
      "source": [
        "## Q.2 Write a Python Program to add a key to a dictionary. \n",
        "\n",
        "Sample Dictionary : {0: 10, 1: 20}\n",
        "Expected Result : {0: 10, 1: 20, 2: 30}"
      ]
    },
    {
      "cell_type": "code",
      "metadata": {
        "colab": {
          "base_uri": "https://localhost:8080/"
        },
        "id": "TYPaqmV3Mmr8",
        "outputId": "d6e01bfa-0e78-4045-c14c-7ba0d62f00fe"
      },
      "source": [
        "dicts = {1:'ana',2:'bho',3:'ca',4:'don',5:'ek'}\n",
        "\n",
        "dicts[5]='la'\n",
        "\n",
        "print(dicts)"
      ],
      "execution_count": null,
      "outputs": [
        {
          "output_type": "stream",
          "name": "stdout",
          "text": [
            "{1: 'ana', 2: 'bho', 3: 'ca', 4: 'don', 5: 'la'}\n"
          ]
        }
      ]
    },
    {
      "cell_type": "markdown",
      "metadata": {
        "id": "yGgObmjIXnNj"
      },
      "source": [
        "## Q.3 Write a  program asks for City name and Temperature and builds a dictionary using that Later on you can input City name and it will tell you the Temperature of that City."
      ]
    },
    {
      "cell_type": "code",
      "metadata": {
        "colab": {
          "base_uri": "https://localhost:8080/"
        },
        "id": "NzulNGTNXbyz",
        "outputId": "3d8e2769-c33a-4318-c275-d093e9fab552"
      },
      "source": [
        "n = eval(input(\"Enter the total no. of cities: \"))\n",
        "dicts = {}\n",
        "\n",
        "for i in range(n):\n",
        "  city_name = input(\"Enter the city : \")\n",
        "  \n",
        "  temp = eval(input(\"Enter the temp: \"))\n",
        "  dicts[city_name]=temp\n",
        "\n",
        "print(dicts)\n"
      ],
      "execution_count": null,
      "outputs": [
        {
          "output_type": "stream",
          "name": "stdout",
          "text": [
            "Enter the total no. of cities: 3\n",
            "Enter the city : alwar\n",
            "Enter the temp: 20\n",
            "Enter the city : jodhpur\n",
            "Enter the temp: 23\n",
            "Enter the city : jAIPUR\n",
            "Enter the temp: 21\n",
            "{'alwar': 20, 'jodhpur': 23, 'jAIPUR': 21}\n"
          ]
        }
      ]
    },
    {
      "cell_type": "markdown",
      "metadata": {
        "id": "aClEb36YaeJY"
      },
      "source": [
        "## Q. 4 Write a Python program to convert list to list of dictionaries.\n",
        "\n",
        "Sample lists: [\"Black\", \"Red\", \"Maroon\", \"Yellow\"], [\"#000000\", \"#FF0000\", \"#800000\", \"#FFFF00\"]\n",
        "\n",
        "Expected Output: [{'color_name': 'Black', 'color_code': '#000000'}, {'color_name': 'Red', 'color_code': '#FF0000'}, {'color_name': 'Maroon', 'color_code': '#800000'}, {'color_name': 'Yellow', 'color_code': '#FFFF00'}]"
      ]
    },
    {
      "cell_type": "code",
      "metadata": {
        "colab": {
          "base_uri": "https://localhost:8080/"
        },
        "id": "Bg1yQ8IMYnHP",
        "outputId": "b6d986a9-1efd-4e97-9cbd-4120f26c66f9"
      },
      "source": [
        " c = [\"Black\", \"Red\", \"Maroon\", \"Yellow\"]\n",
        " f= [\"#000000\", \"#FF0000\", \"#800000\", \"#FFFF00\"]\n",
        "\n",
        "print([{\"color_name\":i,\"color_code\":j} for i,j in zip(c,f)])"
      ],
      "execution_count": null,
      "outputs": [
        {
          "output_type": "stream",
          "name": "stdout",
          "text": [
            "[{'color_name': 'Black', 'color_code': '#000000'}, {'color_name': 'Red', 'color_code': '#FF0000'}, {'color_name': 'Maroon', 'color_code': '#800000'}, {'color_name': 'Yellow', 'color_code': '#FFFF00'}]\n"
          ]
        }
      ]
    },
    {
      "cell_type": "markdown",
      "metadata": {
        "id": "A4LinyZbfg5s"
      },
      "source": [
        "## Q. 5 We have following information on Employees and their Salary (Salary is in lakhs),\n",
        "\n",
        "Employee\tSalary\n",
        "John\t14\n",
        "Smith\t13\n",
        "Alice\t32\n",
        "Daneil\t21\n",
        "Using above create a dictionary of Employees and their Salary\n",
        "Write a program that asks user for three type of inputs,\n",
        "print: if user enter print then it should print all Employees with their Salary in this format,\n",
        "John ==>14\n",
        "Smith ==>13\n",
        "Alice ==>32\n",
        " Daneil ==>21\n",
        "add: if user input adds then it should further ask for an Employee name to add. If Employee already exists in our dataset then it should print that it exists and do nothing. If it doesn't then it asks for Salary and add that new Employee/Salary in our dictionary and print it\n",
        "remove: when user inputs remove it should ask for an Employee to remove. If an Employee exists in our dictionary then remove it and print a new dictionary using format shown above in (a). Else print that Employee doesn't exist!\n",
        "query: on this again ask the user for which Employee he or she wants to query. When a user inputs that Employee it will print the Salary of that Employee.\n"
      ]
    },
    {
      "cell_type": "code",
      "metadata": {
        "colab": {
          "base_uri": "https://localhost:8080/"
        },
        "id": "jqsDskBqcFpD",
        "outputId": "ce7d3abf-e804-4606-b9ae-265a7aea6f20"
      },
      "source": [
        "dat = {'John'\t:14,'Smith':13,'Alice':32,'Daneil':21}\n",
        "ask = input(\"What you want -> [a] print  [b] add [c] remove [d] query: \")\n",
        "\n",
        "if ask == 'print':\n",
        "  for i in dat.items():\n",
        "    print(i[0],\"==>\",i[1])\n",
        "\n",
        "elif ask=='add':\n",
        "  emp = input(\"Enter employee name\")\n",
        "  if emp in dat.keys():\n",
        "    print(\"Employee already exists\")\n",
        "  else:\n",
        "    sal = eval(input(\"Enter the salary: \"))\n",
        "    dat[emp]=sal\n",
        "    print(dat)\n",
        "\n",
        "elif ask=='remove':\n",
        "  emp = input(\"Enter employee name: \")\n",
        "  if emp in dat.keys():\n",
        "    del dat[emp]\n",
        "    for i in dat.items():\n",
        "      print(i[0],\"==>\",i[1])\n",
        "\n",
        "  else:\n",
        "    print(\"Employee not exists\")\n",
        "\n",
        "else:\n",
        "  emp = input(\"Enter employee name: \")\n",
        "  print(dat[emp])\n",
        "\n",
        "\n"
      ],
      "execution_count": null,
      "outputs": [
        {
          "output_type": "stream",
          "name": "stdout",
          "text": [
            "What you want -> [a] print  [b] add [c] remove [d] query: query\n",
            "Enter employee name: Smith\n",
            "13\n"
          ]
        }
      ]
    },
    {
      "cell_type": "markdown",
      "metadata": {
        "id": "IuS4aznTi-mc"
      },
      "source": [
        "## Q.1 What is the difference between a set and a frozenset? Create any set and try to use frozenset(setname)."
      ]
    },
    {
      "cell_type": "markdown",
      "metadata": {
        "id": "JQkh2gFAmEGu"
      },
      "source": [
        "## The frozenset() is an inbuilt function in Python which takes an iterable object as input and makes them immutable. Simply it freezes the iterable objects and makes them unchangeable.\n",
        "\n"
      ]
    },
    {
      "cell_type": "code",
      "metadata": {
        "colab": {
          "base_uri": "https://localhost:8080/",
          "height": 253
        },
        "id": "bgP6v4GYmHez",
        "outputId": "8c3cdb4e-781d-4d35-a0b3-5ccd919403c4"
      },
      "source": [
        "l = ['anabella','comes','home']\n",
        "lst = frozenset(l)\n",
        "print(lst )\n",
        "\n",
        "lst[3]='2'\n",
        "\n",
        "print(lst)\n",
        "\n"
      ],
      "execution_count": 4,
      "outputs": [
        {
          "output_type": "stream",
          "name": "stdout",
          "text": [
            "frozenset({'anabella', 'home', 'comes'})\n"
          ]
        },
        {
          "output_type": "error",
          "ename": "TypeError",
          "evalue": "ignored",
          "traceback": [
            "\u001b[0;31m---------------------------------------------------------------------------\u001b[0m",
            "\u001b[0;31mTypeError\u001b[0m                                 Traceback (most recent call last)",
            "\u001b[0;32m<ipython-input-4-3223a6876c55>\u001b[0m in \u001b[0;36m<module>\u001b[0;34m()\u001b[0m\n\u001b[1;32m      3\u001b[0m \u001b[0mprint\u001b[0m\u001b[0;34m(\u001b[0m\u001b[0mlst\u001b[0m \u001b[0;34m)\u001b[0m\u001b[0;34m\u001b[0m\u001b[0;34m\u001b[0m\u001b[0m\n\u001b[1;32m      4\u001b[0m \u001b[0;34m\u001b[0m\u001b[0m\n\u001b[0;32m----> 5\u001b[0;31m \u001b[0mlst\u001b[0m\u001b[0;34m[\u001b[0m\u001b[0;36m3\u001b[0m\u001b[0;34m]\u001b[0m\u001b[0;34m=\u001b[0m\u001b[0;34m'2'\u001b[0m\u001b[0;34m\u001b[0m\u001b[0;34m\u001b[0m\u001b[0m\n\u001b[0m\u001b[1;32m      6\u001b[0m \u001b[0;34m\u001b[0m\u001b[0m\n\u001b[1;32m      7\u001b[0m \u001b[0mprint\u001b[0m\u001b[0;34m(\u001b[0m\u001b[0mlst\u001b[0m\u001b[0;34m)\u001b[0m\u001b[0;34m\u001b[0m\u001b[0;34m\u001b[0m\u001b[0m\n",
            "\u001b[0;31mTypeError\u001b[0m: 'frozenset' object does not support item assignment"
          ]
        }
      ]
    },
    {
      "cell_type": "markdown",
      "metadata": {
        "id": "CzMSeCbWiP6h"
      },
      "source": [
        "## Q.2 Find the elements in a given set that are not in another set\n",
        "\n",
        "    set1 = {10,20,30,40,50}\n",
        "\n",
        "    set2 = {40,50,60,70,80}\n",
        "\n",
        " Difference between set1 and set2 is {10,20,30}"
      ]
    },
    {
      "cell_type": "code",
      "metadata": {
        "colab": {
          "base_uri": "https://localhost:8080/"
        },
        "id": "hDjexv5cevTc",
        "outputId": "9dfc2440-9982-41b5-dc5d-9a76ddd3f2e8"
      },
      "source": [
        "set1 = {10,20,30,40,50}\n",
        "\n",
        "set2 = {40,50,60,70,80}\n",
        "\n",
        "print(\"set1 - set2 = \",set1.difference(set2))\n",
        "\n",
        "print(\"set1 - set2 = \",set2.difference(set1))\n",
        "\n"
      ],
      "execution_count": null,
      "outputs": [
        {
          "output_type": "stream",
          "name": "stdout",
          "text": [
            "set1 - set2 =  {10, 20, 30}\n",
            "set1 - set2 =  {80, 60, 70}\n"
          ]
        }
      ]
    },
    {
      "cell_type": "code",
      "metadata": {
        "id": "Xg2Hpnbmiz8R"
      },
      "source": [
        ""
      ],
      "execution_count": null,
      "outputs": []
    }
  ]
}